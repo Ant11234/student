{
 "cells": [
  {
   "cell_type": "markdown",
   "metadata": {},
   "source": [
    "---\n",
    "toc: true\n",
    "comments: true\n",
    "layout: notebook\n",
    "title: Individual Review\n",
    "description: by Anthony Bazhenov\n",
    "courses: { csa: {week: 18} }\n",
    "type: hacks\n",
    "---"
   ]
  },
  {
   "cell_type": "markdown",
   "metadata": {},
   "source": [
    "# Indiviual Blog with Key Assets and Projects\n",
    "Throughout this trimester I have worked on tons of projects from my miniproject to my SASS lesson, and I believe that this experience has provided me an oppurtunity to take a more leading role in my team. From working with my team in my SASS lesson, I learned to organize and divde up work more easily and effectively. By setting out clear team roles and clear objectives and goals it makes it much easier to complete the project in an orderly manner. I also learned a lot about styling from my miniproject, where I ran an animation in the background when an image is hovered. Nikhil also helped me learn backend coding something I was semi-unfamiliar with at the time. With him and my other teamates help I was able to learn a lot about what im passionate about in CSA and for my next project I will use what I've learned in order to have the most success possible.\n",
    "\n",
    "link to miniproject: https://code-demons.github.io/miniproject/eventselection"
   ]
  },
  {
   "cell_type": "markdown",
   "metadata": {},
   "source": [
    "# College Board\n",
    "Grade Recieved: 26/39\n",
    "\n",
    "Difficult Questions:\n",
    "Q27-I selected A for this question when I should've selected B. In order to do this question correct the next time I should more accurately hollow the path in the code. I messed up an if-statement condition and because of that the values got in mismatched order.\n",
    "Q28-I selected C my first time when the answer is B. My mistake stems from me messing up the index and how it starts at 0. I believed it started at 1 which messed up the rest of the code after.\n",
    "Q34-I selected B when it should've been D for this question. My mistake hear is a stupid mistake. I understand why because in the if statement you want to have k != sizeOfList-1 not 0.\n",
    "Q36-I mistakenly put B when it should've been D. I see my mistake now, because its not individually going term by term to find the middle, it is just dividing it in two, it only ever iterates 11 times before completing.\n",
    "Q38-I put A for 38 when it should've been C because it calls itself at the end meaning that it will go consistently through every term until it has done so."
   ]
  },
  {
   "cell_type": "markdown",
   "metadata": {},
   "source": [
    "# Github Commits\n",
    "\n",
    "- https://github.com/Ant11234"
   ]
  },
  {
   "cell_type": "markdown",
   "metadata": {},
   "source": [
    "# Why am I so Passionate about this CSA Project\n",
    "I am extremely excited to start working on this new project in CSA because for years this has been one of my dream projects, but I lacked the skills and resources to do it. However, now I feel as if I learned enough from my time in CSA, I am eager to start tackling the problem."
   ]
  }
 ],
 "metadata": {
  "language_info": {
   "name": "python"
  },
  "orig_nbformat": 4
 },
 "nbformat": 4,
 "nbformat_minor": 2
}
