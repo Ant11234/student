{
 "cells": [
  {
   "attachments": {},
   "cell_type": "markdown",
   "metadata": {},
   "source": [
    "---\n",
    "comments: true\n",
    "layout: post\n",
    "title: Linux Install & Version Check\n",
    "\n",
    "---"
   ]
  },
  {
   "cell_type": "code",
   "execution_count": 23,
   "metadata": {
    "vscode": {
     "languageId": "shellscript"
    }
   },
   "outputs": [],
   "source": [
    "%%script bash\n",
    "\n",
    "# Dependency Variables, set to match your project directories\n",
    "\n",
    "cat <<EOF > /tmp/variables.sh\n",
    "export project_dir=$HOME/vscode  # change vscode to different name to test git clone\n",
    "export project=\\$project_dir/teacher  # change teacher to name of project from git clone\n",
    "export project_repo=\"https://github.com/nighthawkcoders/teacher.git\"  # change to project of choice\n",
    "EOF"
   ]
  },
  {
   "cell_type": "code",
   "execution_count": 24,
   "metadata": {
    "vscode": {
     "languageId": "shellscript"
    }
   },
   "outputs": [
    {
     "name": "stdout",
     "output_type": "stream",
     "text": [
      "Using conditional statement to create a project directory and project\n",
      "Directory /Users/anthony/vscode exists.\n",
      "Directory /Users/anthony/vscode/teacher exists.\n"
     ]
    }
   ],
   "source": [
    "%%script bash\n",
    "\n",
    "# Extract saved variables\n",
    "source /tmp/variables.sh\n",
    "\n",
    "echo \"Using conditional statement to create a project directory and project\"\n",
    "\n",
    "cd ~    # start in home directory\n",
    "\n",
    "# Conditional block to make a project directory\n",
    "if [ ! -d $project_dir ]\n",
    "then \n",
    "    echo \"Directory $project_dir does not exists... makinng directory $project_dir\"\n",
    "    mkdir -p $project_dir\n",
    "fi\n",
    "echo \"Directory $project_dir exists.\" \n",
    "\n",
    "# Conditional block to git clone a project from project_repo\n",
    "if [ ! -d $project ]\n",
    "then\n",
    "    echo \"Directory $project does not exists... cloning $project_repo\"\n",
    "    cd $project_dir\n",
    "    git clone $project_repo\n",
    "    cd ~\n",
    "fi\n",
    "echo \"Directory $project exists.\""
   ]
  },
  {
   "cell_type": "code",
   "execution_count": 25,
   "metadata": {
    "vscode": {
     "languageId": "shellscript"
    }
   },
   "outputs": [
    {
     "name": "stdout",
     "output_type": "stream",
     "text": [
      "Navigate to project, then navigate to area wwhere files were cloned\n",
      "/Users/anthony/vscode/teacher\n",
      "\n",
      "list top level or root of files with project pulled from github\n",
      "Gemfile\n",
      "LICENSE\n",
      "Makefile\n",
      "README.md\n",
      "_config.yml\n",
      "\u001b[34m_data\u001b[m\u001b[m\n",
      "\u001b[34m_includes\u001b[m\u001b[m\n",
      "\u001b[34m_layouts\u001b[m\u001b[m\n",
      "\u001b[34m_notebooks\u001b[m\u001b[m\n",
      "\u001b[34m_posts\u001b[m\u001b[m\n",
      "\u001b[34massets\u001b[m\u001b[m\n",
      "csa.md\n",
      "csp.md\n",
      "csse.md\n",
      "\u001b[34mimages\u001b[m\u001b[m\n",
      "index.md\n",
      "indexBlogs.md\n",
      "\u001b[34mscripts\u001b[m\u001b[m\n"
     ]
    }
   ],
   "source": [
    "%%script bash\n",
    "\n",
    "# Extract saved variables\n",
    "source /tmp/variables.sh\n",
    "\n",
    "echo \"Navigate to project, then navigate to area wwhere files were cloned\"\n",
    "cd $project\n",
    "pwd\n",
    "\n",
    "echo \"\"\n",
    "echo \"list top level or root of files with project pulled from github\"\n",
    "ls"
   ]
  },
  {
   "cell_type": "code",
   "execution_count": 26,
   "metadata": {
    "vscode": {
     "languageId": "shellscript"
    }
   },
   "outputs": [
    {
     "name": "stdout",
     "output_type": "stream",
     "text": [
      "Navigate to project, then navigate to area wwhere files were cloned\n",
      "/Users/anthony/vscode/teacher\n",
      "\n",
      "list all files in long format\n",
      "total 104\n"
     ]
    },
    {
     "name": "stdout",
     "output_type": "stream",
     "text": [
      "drwxr-xr-x  23 anthony  staff   736 Aug 24 14:05 \u001b[34m.\u001b[m\u001b[m\n",
      "drwxr-xr-x   3 anthony  staff    96 Aug 24 14:05 \u001b[34m..\u001b[m\u001b[m\n",
      "drwxr-xr-x  12 anthony  staff   384 Aug 24 14:05 \u001b[34m.git\u001b[m\u001b[m\n",
      "drwxr-xr-x   3 anthony  staff    96 Aug 24 14:05 \u001b[34m.github\u001b[m\u001b[m\n",
      "-rw-r--r--   1 anthony  staff   157 Aug 24 14:05 .gitignore\n",
      "-rw-r--r--   1 anthony  staff   122 Aug 24 14:05 Gemfile\n",
      "-rw-r--r--   1 anthony  staff  1081 Aug 24 14:05 LICENSE\n",
      "-rw-r--r--   1 anthony  staff  3131 Aug 24 14:05 Makefile\n",
      "-rw-r--r--   1 anthony  staff  6853 Aug 24 14:05 README.md\n",
      "-rw-r--r--   1 anthony  staff   607 Aug 24 14:05 _config.yml\n",
      "drwxr-xr-x   6 anthony  staff   192 Aug 24 14:05 \u001b[34m_data\u001b[m\u001b[m\n",
      "drwxr-xr-x  11 anthony  staff   352 Aug 24 14:05 \u001b[34m_includes\u001b[m\u001b[m\n",
      "drwxr-xr-x   6 anthony  staff   192 Aug 24 14:05 \u001b[34m_layouts\u001b[m\u001b[m\n",
      "drwxr-xr-x  38 anthony  staff  1216 Aug 24 14:05 \u001b[34m_notebooks\u001b[m\u001b[m\n",
      "drwxr-xr-x  12 anthony  staff   384 Aug 24 14:05 \u001b[34m_posts\u001b[m\u001b[m\n",
      "drwxr-xr-x   4 anthony  staff   128 Aug 24 14:05 \u001b[34massets\u001b[m\u001b[m\n",
      "-rw-r--r--   1 anthony  staff    92 Aug 24 14:05 csa.md\n",
      "-rw-r--r--   1 anthony  staff    98 Aug 24 14:05 csp.md\n",
      "-rw-r--r--   1 anthony  staff   108 Aug 24 14:05 csse.md\n",
      "drwxr-xr-x  34 anthony  staff  1088 Aug 24 14:05 \u001b[34mimages\u001b[m\u001b[m\n",
      "-rw-r--r--   1 anthony  staff  5149 Aug 24 14:05 index.md\n",
      "-rw-r--r--   1 anthony  staff    53 Aug 24 14:05 indexBlogs.md\n",
      "drwxr-xr-x   8 anthony  staff   256 Aug 24 14:05 \u001b[34mscripts\u001b[m\u001b[m\n"
     ]
    }
   ],
   "source": [
    "%%script bash\n",
    "\n",
    "# Extract saved variables\n",
    "source /tmp/variables.sh\n",
    "\n",
    "echo \"Navigate to project, then navigate to area wwhere files were cloned\"\n",
    "cd $project\n",
    "pwd\n",
    "\n",
    "echo \"\"\n",
    "echo \"list all files in long format\"\n",
    "ls -al   # all files -a (hidden) in -l long listing\n"
   ]
  },
  {
   "cell_type": "code",
   "execution_count": 27,
   "metadata": {
    "vscode": {
     "languageId": "shellscript"
    }
   },
   "outputs": [
    {
     "name": "stdout",
     "output_type": "stream",
     "text": [
      "Look for posts\n",
      "/Users/anthony/vscode/teacher/_posts\n",
      "total 176\n",
      "-rw-r--r--  1 anthony  staff   7685 Aug 24 14:05 2023-08-16-Tools_Equipment.md\n",
      "-rw-r--r--  1 anthony  staff   4650 Aug 24 14:05 2023-08-16-pair_programming.md\n",
      "-rw-r--r--  1 anthony  staff   7137 Aug 24 14:05 2023-08-17-markdown-html_fragments.md\n",
      "-rw-r--r--  1 anthony  staff   6659 Aug 24 14:05 2023-08-23-javascript-calculator.md\n",
      "-rw-r--r--  1 anthony  staff  10642 Aug 24 14:05 2023-08-30-agile_methodolgy.md\n",
      "-rw-r--r--  1 anthony  staff   3849 Aug 24 14:05 2023-08-30-javascript-music-api.md\n",
      "-rw-r--r--  1 anthony  staff   5312 Aug 24 14:05 2023-09-06-javascript-motion-mario-oop.md\n",
      "-rw-r--r--  1 anthony  staff   4812 Aug 24 14:05 2023-09-13-java-free_response.md\n",
      "-rw-r--r--  1 anthony  staff  13220 Aug 24 14:05 2023-10-16-java-api-pojo-jpa.md\n",
      "-rw-r--r--  1 anthony  staff   6819 Aug 24 14:05 2023-11-13-jwt-java-spring.md\n"
     ]
    }
   ],
   "source": [
    "%%script bash\n",
    "\n",
    "# Extract saved variables\n",
    "source /tmp/variables.sh\n",
    "\n",
    "echo \"Look for posts\"\n",
    "export posts=$project/_posts  # _posts inside project\n",
    "cd $posts  # this should exist per fastpages\n",
    "pwd  # present working directory\n",
    "ls -l  # list posts\n"
   ]
  },
  {
   "cell_type": "code",
   "execution_count": 28,
   "metadata": {
    "vscode": {
     "languageId": "shellscript"
    }
   },
   "outputs": [
    {
     "name": "stdout",
     "output_type": "stream",
     "text": [
      "Look for notebooks\n",
      "/Users/anthony/vscode/teacher/_notebooks\n",
      "total 1472\n",
      "-rw-r--r--  1 anthony  staff   13014 Aug 24 14:05 2023-08-01-cloud_database.ipynb\n",
      "-rw-r--r--  1 anthony  staff    8992 Aug 24 14:05 2023-08-01-mario_player.ipynb\n",
      "-rw-r--r--  1 anthony  staff   43705 Aug 24 14:05 2023-08-02-cloud-workspace-automation.ipynb\n",
      "-rw-r--r--  1 anthony  staff   22060 Aug 24 14:05 2023-08-03-mario_block.ipynb\n",
      "-rw-r--r--  1 anthony  staff   11791 Aug 24 14:05 2023-08-03-mario_platform.ipynb\n",
      "-rw-r--r--  1 anthony  staff   19450 Aug 24 14:05 2023-08-03-mario_tube.ipynb\n",
      "-rw-r--r--  1 anthony  staff   24387 Aug 24 14:05 2023-08-04-mario_background.ipynb\n",
      "-rw-r--r--  1 anthony  staff    3496 Aug 24 14:05 2023-08-07-mario_lesson.ipynb\n",
      "-rw-r--r--  1 anthony  staff   10110 Aug 24 14:05 2023-08-15-java-hello.ipynb\n",
      "-rw-r--r--  1 anthony  staff   26361 Aug 24 14:05 2023-08-16-github_pages_setup.ipynb\n",
      "-rw-r--r--  1 anthony  staff   16156 Aug 24 14:05 2023-08-16-linux_shell.ipynb\n",
      "-rw-r--r--  1 anthony  staff   11466 Aug 24 14:05 2023-08-16-python_hello.ipynb\n",
      "-rw-r--r--  1 anthony  staff   10044 Aug 24 14:05 2023-08-23-github_pages_anatomy.ipynb\n",
      "-rw-r--r--  1 anthony  staff   22674 Aug 24 14:05 2023-08-23-java-console_games.ipynb\n",
      "-rw-r--r--  1 anthony  staff    9038 Aug 24 14:05 2023-08-23-python_tricks.ipynb\n",
      "-rw-r--r--  1 anthony  staff   10152 Aug 24 14:05 2023-08-30-javascript_top_10.ipynb\n",
      "-rw-r--r--  1 anthony  staff    9689 Aug 24 14:05 2023-08-30-showcase-S1-pair.ipynb\n",
      "-rw-r--r--  1 anthony  staff    7192 Aug 24 14:05 2023-09-05-python-flask-anatomy.ipynb\n",
      "-rw-r--r--  1 anthony  staff   22157 Aug 24 14:05 2023-09-06-AWS-deployment.ipynb\n",
      "-rw-r--r--  1 anthony  staff   14380 Aug 24 14:05 2023-09-06-java-primitives.ipynb\n",
      "-rw-r--r--  1 anthony  staff   11671 Aug 24 14:05 2023-09-06-javascript-input.ipynb\n",
      "-rw-r--r--  1 anthony  staff   13706 Aug 24 14:05 2023-09-12-java_menu_class.ipynb\n",
      "-rw-r--r--  1 anthony  staff    9562 Aug 24 14:05 2023-09-13-java_fibonaccii_class.ipynb\n",
      "-rw-r--r--  1 anthony  staff   44217 Aug 24 14:05 2023-09-13-javascript_output.ipynb\n",
      "-rw-r--r--  1 anthony  staff   43423 Aug 24 14:05 2023-09-13-python-pandas_intro.ipynb\n",
      "-rw-r--r--  1 anthony  staff   11578 Aug 24 14:05 2023-09-20-java-image_2D.ipynb\n",
      "-rw-r--r--  1 anthony  staff   26739 Aug 24 14:05 2023-09-20-javascript_motion_dog.ipynb\n",
      "-rw-r--r--  1 anthony  staff   13599 Aug 24 14:05 2023-10-02-java-spring-anatomy.ipynb\n",
      "-rw-r--r--  1 anthony  staff   12429 Aug 24 14:05 2023-10-09-java-chatgpt.ipynb\n",
      "-rw-r--r--  1 anthony  staff   15632 Aug 24 14:05 2023-10-09-javascript_api.ipynb\n",
      "-rw-r--r--  1 anthony  staff  113091 Aug 24 14:05 2023-10-09-python_machine_learing_fitness.ipynb\n",
      "-rw-r--r--  1 anthony  staff   16271 Aug 24 14:05 2023-11-13-jwt-python-flask.ipynb\n",
      "-rw-r--r--  1 anthony  staff   15951 Aug 24 14:05 2023-11-13-vulnerabilities.ipynb\n",
      "-rw-r--r--  1 anthony  staff   18328 Aug 24 14:05 2023-11-20-jwt-java-spring-challenge.md\n",
      "-rw-r--r--  1 anthony  staff   10745 Aug 24 14:05 2024-01-04-cockpit-setup.ipynb\n",
      "drwxr-xr-x  3 anthony  staff      96 Aug 24 14:05 \u001b[34mfiles\u001b[m\u001b[m\n"
     ]
    }
   ],
   "source": [
    "%%script bash\n",
    "\n",
    "# Extract saved variables\n",
    "source /tmp/variables.sh\n",
    "\n",
    "echo \"Look for notebooks\"\n",
    "export notebooks=$project/_notebooks  # _notebooks is inside project\n",
    "cd $notebooks   # this should exist per fastpages\n",
    "pwd  # present working directory\n",
    "ls -l  # list notebooks"
   ]
  },
  {
   "cell_type": "code",
   "execution_count": 29,
   "metadata": {
    "vscode": {
     "languageId": "shellscript"
    }
   },
   "outputs": [
    {
     "name": "stdout",
     "output_type": "stream",
     "text": [
      "Look for images in notebooks, print working directory, list files\n",
      "/\n"
     ]
    },
    {
     "name": "stderr",
     "output_type": "stream",
     "text": [
      "bash: line 6: cd: /images: No such file or directory\n"
     ]
    },
    {
     "name": "stdout",
     "output_type": "stream",
     "text": [
      "total 9\n",
      "drwxrwxr-x  144 root  admin  4608 Aug 24 09:09 \u001b[34mApplications\u001b[m\u001b[m\n",
      "drwxr-xr-x   78 root  wheel  2496 May 23  2022 \u001b[34mLibrary\u001b[m\u001b[m\n",
      "drwxr-xr-x@   9 root  wheel   288 Mar 26  2022 \u001b[34mSystem\u001b[m\u001b[m\n",
      "drwxr-xr-x    8 root  admin   256 Jul  7 13:12 \u001b[34mUsers\u001b[m\u001b[m\n",
      "drwxr-xr-x+   5 root  wheel   160 Aug 24 14:03 \u001b[34mVolumes\u001b[m\u001b[m\n",
      "drwxr-xr-x@  38 root  wheel  1216 Mar 26  2022 \u001b[34mbin\u001b[m\u001b[m\n",
      "drwxrwxr-t    2 root  admin    64 Feb 25  2019 \u001b[34mcores\u001b[m\u001b[m\n",
      "dr-xr-xr-x    3 root  wheel  4490 Mar 31  1976 \u001b[34mdev\u001b[m\u001b[m\n",
      "lrwxr-xr-x@   1 root  wheel    11 Mar 26  2022 \u001b[35metc\u001b[m\u001b[m -> private/etc\n",
      "lrwxr-xr-x    1 root  wheel    25 Jul 24 01:11 \u001b[35mhome\u001b[m\u001b[m -> /System/Volumes/Data/home\n",
      "drwxr-xr-x    5 root  wheel   160 Aug  9  2019 \u001b[34mopt\u001b[m\u001b[m\n",
      "drwxr-xr-x    6 root  wheel   192 Mar 31  1976 \u001b[34mprivate\u001b[m\u001b[m\n",
      "drwxr-xr-x@  65 root  wheel  2080 Mar 26  2022 \u001b[34msbin\u001b[m\u001b[m\n",
      "lrwxr-xr-x@   1 root  wheel    11 Mar 26  2022 \u001b[35mtmp\u001b[m\u001b[m -> private/tmp\n",
      "drwxr-xr-x@  11 root  wheel   352 Mar 26  2022 \u001b[34musr\u001b[m\u001b[m\n",
      "lrwxr-xr-x@   1 root  wheel    11 Mar 26  2022 \u001b[35mvar\u001b[m\u001b[m -> private/var\n"
     ]
    }
   ],
   "source": [
    "%%script bash\n",
    "\n",
    "# Extract saved variables\n",
    "source /tmp/variables.sh\n",
    "\n",
    "echo \"Look for images in notebooks, print working directory, list files\"\n",
    "cd $notebooks/images  # this should exist per fastpages\n",
    "pwd\n",
    "ls -l\n"
   ]
  },
  {
   "cell_type": "code",
   "execution_count": 30,
   "metadata": {
    "vscode": {
     "languageId": "shellscript"
    }
   },
   "outputs": [
    {
     "name": "stdout",
     "output_type": "stream",
     "text": [
      "Navigate to project, then navigate to area wwhere files were cloned\n",
      "show the contents of README.md\n",
      "\n",
      "## Teacher Blog site\n",
      "This site is intended for the development of Teacher content.  This blogging site is built using GitHub Pages [GitHub Pages](https://docs.github.com/en/pages/getting-started-with-github-pages/creating-a-github-pages-site).\n",
      "- The purpose is to build lessons and distribute across different Computer Science sections (CSSE, CSP, CSA), a pathway that covers 3 years of High School Instruction.\n",
      "- The primary languages and frameworks that are taught are `JavaScript/HTML/CSS`, `Python/Flask`, `Java/Spring`.  Read below for more details.\n",
      "- In this course, Teacher content is not exclusively developed by Teachers.  In fact, many Students have been invited to develop and publish content into this repository.  Their names will appear as authors on the content which they aided in producing.\n",
      "- This site has incorporated ideas and has radically modified scripts from the now deprecated [fastpages](https://github.com/fastai/fastpages) repository.\n",
      "- This site includes assistance and guideance from ChatGPT, [chat.openai.com](https://chat.openai.com/) \n",
      "\n",
      "### Courses and Pathway\n",
      "The focus of the Del Norte Computer Science three-year pathway is `Full Stack Web Development`.  This focus provides a variety of technologies and exposures.  The intention of the pathway is breadth and exposure.\n",
      "- `JavaScript` documents are focused on frontend development and for entry class into the Del Norte Computer Science pathway.  JavaScript documents and materials are a prerequisites to Python and Java classes.\n",
      "- `Python` documents are focused on backend development and requirements for the AP Computer Science Principles exam.\n",
      "- `Java` documents are focused on backend development and requirements for the AP Computer Sciene A exam.\n",
      "- `Data Structures` materials embedded into JavaScript, Python, or Java documents are focused on college course articulation.\n",
      "\n",
      "### Resources and Instruction\n",
      "The materials, such as this README, as well as `Tools`, `DevOps`, and `Collaboration` resources are integral part of this course and Computer Science in general.  Everything in our environment is part of our learning of Computer Science. \n",
      "- `Visual Studio Code` is key the code-build-debug cycle editor used in this course, [VSCode download](https://code.visualstudio.com/).  This is an example of a resource, but inside of it it has features for collaboration.\n",
      "- `Tech Talks`, aka lectures, are intended to be interactive and utilize `Jupyter Notebooks` and Websites.  This is an example of blending instruction and tools together, which in turn provide additional resources for learning.  For instance, deep knowledge on  GitHub Pages and Notebooks are valuable in understanding principles behind Full Stack Development and Data Science. \n",
      "\n",
      "## GitHub Pages\n",
      "All `GitHub Pages` websites are managed on GitHub infrastructure. GitHub uses `Jekyll` to tranform your content into static websites and blogs. Each time we change files in GitHub it initiates a GitHub Action that rebuilds and publishes the site with Jekyll.  \n",
      "- GitHub Pages is powered by: [Jekyll](https://jekyllrb.com/).\n",
      "- Publised teacher website: [nighthawkcoders.github.io/teacher](https://nighthawkcoders.github.io/teacher/)\n",
      "\n",
      "## Preparing a Preview Site \n",
      "In all development, it is recommended to test your code before deployment.  The GitHub Pages development process is optimized by testing your development on your local machine, prior to files on GitHub\n",
      "\n",
      "Development Cycle. For GitHub pages, the tooling described below will create a development cycle  `make-code-save-preview`.  In the development cycle, it is a requirement to preview work locally, prior to doing a VSCode `commit` to git.\n",
      "\n",
      "Deployment Cycle.  In the deplopyment cycle, `sync-github-action-review`, it is a requirement to complete the development cycle prior to doing a VSCode `sync`.  The sync triggers github repository update.  The action starts the jekyll build to publish the website.  Any step can have errors and will require you to do a review.\n",
      "\n",
      "### WSL and/or Ubuntu installation requirements\n",
      "- The result of these step is Ubuntu tools to run preview server.  These procedures were created using [jekyllrb.com](https://jekyllrb.com/docs/installation/ubuntu/)\n",
      "```bash\n",
      "# \n",
      "# WSL/Ubuntu setup\n",
      "#\n",
      "mkdir mkdir vscode\n",
      "git clone https://github.com/nighthawkcoders/teacher.git\n",
      "# run script, path vscode/teacher are baked in script\n",
      "~/vscode/teacher/scripts/activate_ubuntu.sh\n",
      "#=== !!!Start a new Terminal!!! ===\n",
      "#=== Continue to next section ===\n",
      "```\n",
      "\n",
      "### MacOs installation requirements \n",
      "- Ihe result of these step are MacOS tools to run preview server.  These procedures were created using [jekyllrb.com](https://jekyllrb.com/docs/installation/macos/). \n",
      "\n",
      "```bash\n",
      "# \n",
      "# MacOS setup\n",
      "#\n",
      "mkdir mkdir vscode\n",
      "git clone https://github.com/nighthawkcoders/teacher.git\n",
      "# run script, path vscode/teacher are baked in script\n",
      "~/vscode/teacher/scripts/activate_macos.sh\n",
      "#=== !!!Start a new Terminal!!! ===\n",
      "#=== Continue to next section ===\n",
      "```\n",
      "\n",
      "\n",
      "### Run Preview Server\n",
      "- The result of these step is server running on: http://0.0.0.0:4100/teacher/.  Regeneration messages will run in terminal on any save and update site upon refresh.  Terminal is active, press the Enter or Return key in the terminal at any time to see prompt to enter commands.\n",
      "\n",
      "- Complete installation\n",
      "```bash\n",
      "cd ~/vscode/teacher\n",
      "bundle install\n",
      "make\n",
      "```\n",
      "- Run Server.  This requires running terminal commands `make`, `make stop`, `make clean`, or `make convert` to manage the running server.  Logging of details will appear in terminal.   A `Makefile` has been created in project to support commands and start processes.\n",
      "\n",
      "    - Start preview server in terminal\n",
      "    ```bash\n",
      "    cd ~/vscode/teacher  # my project location, adapt as necessary\n",
      "    make\n",
      "    ```\n",
      "\n",
      "    - Terminal output of shows server address. Cmd or Ctl click http location to open preview server in browser. Example Server address message... \n",
      "    ```\n",
      "    Server address: http://0.0.0.0:4100/teacher/\n",
      "    ```\n",
      "\n",
      "    - Save on ipynb or md activiates \"regeneration\". Refresh browser to see updates. Example terminal message...\n",
      "    ```\n",
      "    Regenerating: 1 file(s) changed at 2023-07-31 06:54:32\n",
      "        _notebooks/2024-01-04-cockpit-setup.ipynb\n",
      "    ```\n",
      "\n",
      "    - Terminal message are generated from background processes.  Click return or enter to obtain prompt and use terminal as needed for other tasks.  Alway return to root of project `cd ~/vscode/teacher` for all \"make\" actions. \n",
      "        \n",
      "\n",
      "    - Stop preview server, but leave constructed files in project for your review.\n",
      "    ```bash\n",
      "    make stop\n",
      "    ```\n",
      "\n",
      "    - Stop server and \"clean\" constructed files, best choice when renaming files to eliminate potential duplicates in constructed files.\n",
      "    ```bash\n",
      "    make clean\n",
      "    ```\n",
      "\n",
      "    - Test notebook conversions, best choice to see if IPYNB conversion is acting up.\n",
      "    ```bash\n",
      "    make convert\n",
      "    ```\n",
      "    \n",
      "end of README.md\n"
     ]
    }
   ],
   "source": [
    "%%script bash\n",
    "\n",
    "# Extract saved variables\n",
    "source /tmp/variables.sh\n",
    "\n",
    "echo \"Navigate to project, then navigate to area wwhere files were cloned\"\n",
    "\n",
    "cd $project\n",
    "echo \"show the contents of README.md\"\n",
    "echo \"\"\n",
    "\n",
    "cat README.md  # show contents of file, in this case markdown\n",
    "echo \"\"\n",
    "echo \"end of README.md\"\n"
   ]
  },
  {
   "cell_type": "code",
   "execution_count": 31,
   "metadata": {
    "vscode": {
     "languageId": "shellscript"
    }
   },
   "outputs": [
    {
     "name": "stdout",
     "output_type": "stream",
     "text": [
      "Show the shell environment variables, key on left of equal value on right\n",
      "\n",
      "VSCODE_CRASH_REPORTER_PROCESS_TYPE=extensionHost\n",
      "TERM=xterm-color\n",
      "SHELL=/bin/zsh\n",
      "CLICOLOR=1\n",
      "TMPDIR=/var/folders/3v/2wc3st_x3w310z0qmhg8mqw80000gr/T/\n",
      "LIBRARY_PATH=/usr/local/lib\n",
      "PYTHONUNBUFFERED=1\n",
      "SDKROOT=/Library/Developer/CommandLineTools/SDKs/MacOSX.sdk\n",
      "ORIGINAL_XDG_CURRENT_DESKTOP=undefined\n",
      "MallocNanoZone=0\n",
      "PYDEVD_USE_FRAME_EVAL=NO\n",
      "PYTHONIOENCODING=utf-8\n",
      "USER=anthony\n",
      "COMMAND_MODE=unix2003\n",
      "CPATH=/usr/local/include\n",
      "SSH_AUTH_SOCK=/private/tmp/com.apple.launchd.blCyLjgIQ3/Listeners\n",
      "__CF_USER_TEXT_ENCODING=0x1F8:0x0:0x0\n",
      "PAGER=cat\n",
      "ELECTRON_RUN_AS_NODE=1\n",
      "VSCODE_AMD_ENTRYPOINT=vs/workbench/api/node/extensionHostProcess\n",
      "PATH=/usr/bin:/Users/anthony/Library/Python/3.8/bin:/usr/local/bin:/usr/bin:/bin:/usr/sbin:/sbin:/opt/X11/bin:/usr/local/bin:/usr/bin:/bin:/usr/sbin:/sbin:/opt/X11/bin\n",
      "__CFBundleIdentifier=com.microsoft.VSCode\n",
      "PWD=/\n",
      "VSCODE_HANDLES_UNCAUGHT_ERRORS=true\n",
      "MPLBACKEND=module://matplotlib_inline.backend_inline\n",
      "XPC_FLAGS=0x0\n",
      "FORCE_COLOR=1\n",
      "XPC_SERVICE_NAME=0\n",
      "SHLVL=1\n",
      "HOME=/Users/anthony\n",
      "VSCODE_NLS_CONFIG={\"locale\":\"en-us\",\"osLocale\":\"en\",\"availableLanguages\":{},\"_languagePackSupport\":true}\n",
      "PYDEVD_IPYTHON_COMPATIBLE_DEBUGGING=1\n",
      "LOGNAME=anthony\n",
      "LC_CTYPE=UTF-8\n",
      "VSCODE_IPC_HOOK=/Users/anthony/Library/Application Support/Code/1.81-main.sock\n",
      "VSCODE_CODE_CACHE_PATH=/Users/anthony/Library/Application Support/Code/CachedData/6c3e3dba23e8fadc360aed75ce363ba185c49794\n",
      "CLICOLOR_FORCE=1\n",
      "VSCODE_PID=30089\n",
      "DISPLAY=/private/tmp/com.apple.launchd.5t9lP4PrQH/org.macosforge.xquartz:0\n",
      "GIT_PAGER=cat\n",
      "VSCODE_L10N_BUNDLE_LOCATION=\n",
      "VSCODE_CWD=/\n",
      "_=/usr/bin/env\n"
     ]
    }
   ],
   "source": [
    "%%script bash\n",
    "\n",
    "# This command has no dependencies\n",
    "\n",
    "echo \"Show the shell environment variables, key on left of equal value on right\"\n",
    "echo \"\"\n",
    "\n",
    "env"
   ]
  },
  {
   "cell_type": "code",
   "execution_count": 32,
   "metadata": {
    "vscode": {
     "languageId": "shellscript"
    }
   },
   "outputs": [
    {
     "name": "stdout",
     "output_type": "stream",
     "text": [
      "\n",
      "show the secrets of .git\n",
      "total 56\n",
      "-rw-r--r--   1 anthony  staff     21 Aug 24 14:05 HEAD\n",
      "-rw-r--r--   1 anthony  staff    312 Aug 24 14:05 config\n",
      "-rw-r--r--   1 anthony  staff     73 Aug 24 14:05 description\n",
      "drwxr-xr-x  15 anthony  staff    480 Aug 24 14:05 \u001b[34mhooks\u001b[m\u001b[m\n",
      "-rw-r--r--   1 anthony  staff  11702 Aug 24 14:05 index\n",
      "drwxr-xr-x   3 anthony  staff     96 Aug 24 14:05 \u001b[34minfo\u001b[m\u001b[m\n",
      "drwxr-xr-x   4 anthony  staff    128 Aug 24 14:05 \u001b[34mlogs\u001b[m\u001b[m\n",
      "drwxr-xr-x   4 anthony  staff    128 Aug 24 14:05 \u001b[34mobjects\u001b[m\u001b[m\n",
      "-rw-r--r--   1 anthony  staff    112 Aug 24 14:05 packed-refs\n",
      "drwxr-xr-x   5 anthony  staff    160 Aug 24 14:05 \u001b[34mrefs\u001b[m\u001b[m\n",
      "\n",
      "look at config file\n",
      "[core]\n",
      "\trepositoryformatversion = 0\n",
      "\tfilemode = true\n",
      "\tbare = false\n",
      "\tlogallrefupdates = true\n",
      "\tignorecase = true\n",
      "\tprecomposeunicode = true\n",
      "[remote \"origin\"]\n",
      "\turl = https://github.com/nighthawkcoders/teacher.git\n",
      "\tfetch = +refs/heads/*:refs/remotes/origin/*\n",
      "[branch \"main\"]\n",
      "\tremote = origin\n",
      "\tmerge = refs/heads/main\n"
     ]
    }
   ],
   "source": [
    "%%script bash\n",
    "\n",
    "# Extract saved variables\n",
    "source /tmp/variables.sh\n",
    "\n",
    "cd $project\n",
    "\n",
    "echo \"\"\n",
    "echo \"show the secrets of .git\"\n",
    "cd .git\n",
    "ls -l\n",
    "\n",
    "echo \"\"\n",
    "echo \"look at config file\"\n",
    "cat config"
   ]
  },
  {
   "cell_type": "code",
   "execution_count": 33,
   "metadata": {
    "vscode": {
     "languageId": "shellscript"
    }
   },
   "outputs": [
    {
     "name": "stdout",
     "output_type": "stream",
     "text": [
      "\n",
      "File listing and status\n",
      "-rw-r--r--  1 anthony  wheel  809 Aug 24 14:05 sample.md\n",
      "      15     132     809 sample.md\n"
     ]
    },
    {
     "name": "stderr",
     "output_type": "stream",
     "text": [
      "bash: line 30: mdless: command not found\n"
     ]
    }
   ],
   "source": [
    "%%script bash\n",
    "\n",
    "# This example has error in VSCode, it run best on Jupyter\n",
    "cd /tmp\n",
    "\n",
    "file=\"sample.md\"\n",
    "if [ -f \"$file\" ]; then\n",
    "    rm $file\n",
    "fi\n",
    "\n",
    "tee -a $file >/dev/null <<EOF\n",
    "# Show Generated Markdown\n",
    "This introductory paragraph and this line and the title above are generated using tee with the standard input (<<) redirection operator.\n",
    "- This bulleted element is still part of the tee body.\n",
    "EOF\n",
    "\n",
    "echo \"- This bulleted element and lines below are generated using echo with standard output (>>) redirection operator.\" >> $file\n",
    "echo \"- The list definition, as is, is using space to seperate lines.  Thus the use of commas and hyphens in output.\" >> $file\n",
    "actions=(\"ls,list-directory\" \"cd,change-directory\" \"pwd,present-working-directory\" \"if-then-fi,test-condition\" \"env,bash-environment-variables\" \"cat,view-file-contents\" \"tee,write-to-output\" \"echo,display-content-of-string\" \"echo_text_>\\$file,write-content-to-file\" \"echo_text_>>\\$file,append-content-to-file\")\n",
    "for action in ${actions[@]}; do  # for loop is very similar to other language, though [@], semi-colon, do are new\n",
    "  action=${action//-/ }  # convert dash to space\n",
    "  action=${action//,/: } # convert comma to colon\n",
    "  action=${action//_text_/ \\\"sample text\\\" } # convert _text_ to sample text, note escape character \\ to avoid \"\" having meaning\n",
    "  echo \"    - ${action//-/ }\" >> $file  # echo is redirected to file with >>\n",
    "done\n",
    "\n",
    "echo \"\"\n",
    "echo \"File listing and status\"\n",
    "ls -l $file # list file\n",
    "wc $file   # show words\n",
    "mdless $file  # this requires installation, but renders markown from terminal\n",
    "\n",
    "rm $file  # clean up termporary file"
   ]
  }
 ],
 "metadata": {
  "kernelspec": {
   "display_name": "base",
   "language": "python",
   "name": "python3"
  },
  "language_info": {
   "codemirror_mode": {
    "name": "ipython",
    "version": 3
   },
   "file_extension": ".py",
   "mimetype": "text/x-python",
   "name": "python",
   "nbconvert_exporter": "python",
   "pygments_lexer": "ipython3",
   "version": "3.8.9"
  },
  "orig_nbformat": 4
 },
 "nbformat": 4,
 "nbformat_minor": 2
}
