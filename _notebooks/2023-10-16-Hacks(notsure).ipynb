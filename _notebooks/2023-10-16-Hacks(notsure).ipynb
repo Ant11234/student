{
 "cells": [
  {
   "cell_type": "markdown",
   "metadata": {},
   "source": [
    "---\n",
    "toc: true\n",
    "comments: true\n",
    "layout: post\n",
    "title: Unit 2 | Objects\n",
    "description: Unit 2\n",
    "type: lessons\n",
    "courses: { csa: {week: 7} }\n",
    "---"
   ]
  },
  {
   "cell_type": "markdown",
   "metadata": {},
   "source": [
    "# Hack 1\n",
    "- Create a void method that takes an integer input and adds it to an ArrayList. Then, add a non-void method that is able to call a certain index from the ArrayList."
   ]
  },
  {
   "cell_type": "code",
   "execution_count": 10,
   "metadata": {},
   "outputs": [
    {
     "name": "stdout",
     "output_type": "stream",
     "text": [
      "Input a Number to add to the Array List or enter 'Break' to leave: \n",
      "Input a Number to add to the Array List or enter 'Break' to leave: \n",
      "Input a Number to add to the Array List or enter 'Break' to leave: \n",
      "Input a Number to add to the Array List or enter 'Break' to leave: \n",
      "Input a Number to add to the Array List or enter 'Break' to leave: \n",
      "Input a Number to add to the Array List or enter 'Break' to leave: \n",
      "Input a Number to add to the Array List or enter 'Break' to leave: \n",
      "Value at index 1: 20\n"
     ]
    }
   ],
   "source": [
    "import java.util.ArrayList;\n",
    "import java.util.Scanner;\n",
    "\n",
    "public class ArrayListHack {\n",
    "    private ArrayList<Integer> integerList;\n",
    "    private Scanner scanner;\n",
    "\n",
    "    public ArrayListHack() {\n",
    "        // Initialize the ArrayList in the constructor\n",
    "        integerList = new ArrayList<>();\n",
    "        scanner = new Scanner(System.in);\n",
    "    }\n",
    "\n",
    "    // Void method to add an integer to the ArrayList\n",
    "    public void inputToList() {\n",
    "        while (true) {\n",
    "            System.out.println(\"Input a Number to add to the Array List or enter 'Break' to leave: \");\n",
    "\n",
    "            String input = scanner.next();\n",
    "\n",
    "            if (input.equalsIgnoreCase(\"break\")) {\n",
    "                // Exit the loop if the user enters \"Break\"\n",
    "                break;\n",
    "            }\n",
    "\n",
    "            int number = Integer.parseInt(input);\n",
    "            integerList.add(number);\n",
    "        }\n",
    "    }\n",
    "\n",
    "    // Non-void method to get an element at a specific index\n",
    "    public int getIntAtIndex(int index) {\n",
    "        if (index >= 0 && index < integerList.size()) {\n",
    "            return integerList.get(index);\n",
    "        } else {\n",
    "            throw new IndexOutOfBoundsException(\"Index out of bounds\");\n",
    "        }\n",
    "    }\n",
    "\n",
    "    public static void main(String[] args) {\n",
    "        ArrayListHack example = new ArrayListHack();\n",
    "\n",
    "        example.inputToList();\n",
    "\n",
    "        // Gets the element at a specific index\n",
    "        int valueAtIndex = example.getIntAtIndex(1);\n",
    "\n",
    "        System.out.println(\"Value at index 1: \" + valueAtIndex);\n",
    "    }\n",
    "}\n",
    "\n",
    "ArrayListHack.main(null);"
   ]
  },
  {
   "cell_type": "markdown",
   "metadata": {},
   "source": [
    "# Hack 2\n",
    "- Create a simple guessing game with random numbers in math, except the random number is taken to a random exponent (also includes roots), and the person has to find out what the root and exponent is (with hints!). Use at least one static and one non-static method in your class."
   ]
  },
  {
   "cell_type": "code",
   "execution_count": 12,
   "metadata": {},
   "outputs": [
    {
     "name": "stdout",
     "output_type": "stream",
     "text": [
      "Welcome to the Math Guessing Game!\n",
      "I've selected a random number taken to a random exponent (including roots). Your task is to guess the base and exponent.\n",
      "Make your guess (base exponent): "
     ]
    },
    {
     "ename": "EvalException",
     "evalue": "null",
     "output_type": "error",
     "traceback": [
      "\u001b[1m\u001b[31m---------------------------------------------------------------------------\u001b[0m",
      "\u001b[1m\u001b[31mjava.util.InputMismatchException: null\u001b[0m",
      "\u001b[1m\u001b[31m\tat java.base/java.util.Scanner.throwFor(Scanner.java:947)\u001b[0m",
      "\u001b[1m\u001b[31m\tat java.base/java.util.Scanner.next(Scanner.java:1602)\u001b[0m",
      "\u001b[1m\u001b[31m\tat java.base/java.util.Scanner.nextInt(Scanner.java:2267)\u001b[0m",
      "\u001b[1m\u001b[31m\tat java.base/java.util.Scanner.nextInt(Scanner.java:2221)\u001b[0m",
      "\u001b[1m\u001b[31m\tat MathGuessingGame.play(#20:1)\u001b[0m",
      "\u001b[1m\u001b[31m\tat MathGuessingGame.main(#20:1)\u001b[0m",
      "\u001b[1m\u001b[31m\tat .(#22:1)\u001b[0m"
     ]
    }
   ],
   "source": [
    "import java.util.Random;\n",
    "import java.util.Scanner;\n",
    "\n",
    "public class MathGuessingGame {\n",
    "    private static Random random = new Random();\n",
    "    private int base;\n",
    "    private int exponent;\n",
    "    private int answer;\n",
    "\n",
    "    public MathGuessingGame() {\n",
    "        generateRandomMathProblem();\n",
    "    }\n",
    "\n",
    "    private void generateRandomMathProblem() {\n",
    "        base = random.nextInt(10) + 1; // Random base (1 to 10)\n",
    "        exponent = random.nextInt(5) + 2; // Random exponent (2 to 6, including roots)\n",
    "        answer = (int) Math.pow(base, exponent);\n",
    "    }\n",
    "\n",
    "    public void play() {\n",
    "        Scanner scanner = new Scanner(System.in);\n",
    "        int guess;\n",
    "        int attempts = 0;\n",
    "\n",
    "        System.out.println(\"Welcome to the Math Guessing Game!\");\n",
    "        System.out.println(\"I've selected a random number taken to a random exponent (including roots). Your task is to guess the base and exponent.\");\n",
    "\n",
    "        while (true) {\n",
    "            System.out.print(\"Make your guess (base): \");\n",
    "            baseInput = scanner.nextInt();\n",
    "            System.out.print(\"Make your guess (exponent): \");\n",
    "            exponentInput = scanner.nextInt();\n",
    "            \n",
    "\n",
    "            \n",
    "            if (guess == answer) {\n",
    "                System.out.println(\"Congratulations! You've guessed the base and exponent correctly!\");\n",
    "                break;\n",
    "            } else {\n",
    "                System.out.println(\"Sorry, that's not correct. Here are some hints:\");\n",
    "                displayHints();\n",
    "                attempts++;\n",
    "            }\n",
    "        }\n",
    "\n",
    "        System.out.println(\"You got it in \" + attempts + \" attempts.\");\n",
    "    }\n",
    "\n",
    "    private void displayHints() {\n",
    "        System.out.println(\"Hints:\");\n",
    "        System.out.println(\"1. The result is \" + answer);\n",
    "        System.out.println(\"2. The base is between 1 and 10.\");\n",
    "        System.out.println(\"3. The exponent is between 2 and 6 (including roots).\");\n",
    "    }\n",
    "\n",
    "    public static void main(String[] args) {\n",
    "        MathGuessingGame game = new MathGuessingGame();\n",
    "        game.play();\n",
    "    }\n",
    "}\n",
    "\n",
    "MathGuessingGame.main(null);"
   ]
  }
 ],
 "metadata": {
  "kernelspec": {
   "display_name": "Java",
   "language": "java",
   "name": "java"
  },
  "language_info": {
   "codemirror_mode": "java",
   "file_extension": ".jshell",
   "mimetype": "text/x-java-source",
   "name": "java",
   "pygments_lexer": "java",
   "version": "20.0.2+9-78"
  }
 },
 "nbformat": 4,
 "nbformat_minor": 2
}
