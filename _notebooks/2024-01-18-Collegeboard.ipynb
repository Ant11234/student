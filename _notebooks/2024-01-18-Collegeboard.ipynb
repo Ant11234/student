{
 "cells": [
  {
   "cell_type": "markdown",
   "metadata": {},
   "source": [
    "---\n",
    "toc: true\n",
    "comments: true\n",
    "layout: notebook\n",
    "title: College Board\n",
    "description: by Anthony Bazhenov\n",
    "courses: { csa: {week: 16} }\n",
    "type: devops\n",
    "---"
   ]
  },
  {
   "cell_type": "markdown",
   "metadata": {},
   "source": [
    "# College Board\n",
    "Grade Recieved: 26/39\n",
    "\n",
    "All Questions I made an Error:\n",
    "\n",
    "Q5-I selected B for this one when it should've been A. In order to get this question correct the next time I have to think about how because of the and statement their, although the or function would make it true based on my answer but if X were false, the statement would output false because these statements are not equivalent.\n",
    "\n",
    "Q6-For this one I selected E when it should've been A. Answer E is incorrect because the assigned value conrains art twice. A doesn't work as intended bacause although none of the words contain \"art\", by combining all the words first the ar of similar and the t of today combine to create art giving a false positive.\n",
    "\n",
    "Q9-I put C when it should've been E. This one I remember as being tough because, although we know how math.random works, they implement it with other functions and constants in order to make it more difficult. The correct answer is E because while C gives you 0-10, E gives you a range of 2-12 perfect for two dice.\n",
    "\n",
    "Q15-Selected D as oppose to A because I thought that because it said arg + \" \" they would print seperately like how I wrote.\n",
    "\n",
    "Q16-I put C instead of E, I knew it was the index with the element of the largest value in the two dimensional array, but messed up whether it was column or row.\n",
    "\n",
    "Q18-I put C or 41 when it should have been D, 401. I did this because I forgot that we didn't remove the multiplication by 10.\n",
    "\n",
    "Q27-I selected A for this question when I should've selected B. In order to do this question correct the next time I should more accurately hollow the path in the code. I messed up an if-statement condition and because of that the values got in mismatched order.\n",
    "\n",
    "Q28-I selected C my first time when the answer is B. My mistake stems from me messing up the index and how it starts at 0. I believed it started at 1 which messed up the rest of the code after.\n",
    "\n",
    "Q34-I selected B when it should've been D for this question. My mistake here is a stupid mistake. I understand why because in the if statement you want to have k != sizeOfList-1 not 0.\n",
    "\n",
    "Q36-I mistakenly put B when it should've been D. I see my mistake now, because its not individually going term by term to find the middle, it is just dividing it in two, it only ever iterates 11 times before completing.\n",
    "\n",
    "Q38-I put A for 38 when it should've been C because it calls itself at the end meaning that it will go consistently through every term until it has done so."
   ]
  }
 ],
 "metadata": {
  "language_info": {
   "name": "python"
  },
  "orig_nbformat": 4
 },
 "nbformat": 4,
 "nbformat_minor": 2
}
