{
  "cells": [
    {
      "cell_type": "markdown",
      "metadata": {
        "id": "H2owDd1giFbL"
      },
      "source": [
        "---\n",
        "toc: true\n",
        "comments: true\n",
        "layout: post\n",
        "title: U4 | Iteration\n",
        "description: while Loops, for Loops, Developing Algorithms Using Strings, Nested Iteration, Informal code analysis >>> AP Exam Weighting 17.5-22.5%\n",
        "type: lessons\n",
        "courses: { csa: {week: 8} }\n",
        "authors: Aliya, Ekam, Emma, Raunak, Luna\n",
        "---"
      ]
    },
    {
      "cell_type": "markdown",
      "metadata": {
        "id": "BZAHKL8giFbO"
      },
      "source": [
        "# U4 | Iteration"
      ]
    },
    {
      "cell_type": "markdown",
      "metadata": {
        "id": "n5DwvzKDiFbO"
      },
      "source": [
        "---"
      ]
    },
    {
      "cell_type": "markdown",
      "metadata": {
        "id": "tz_lOIHhiFbP"
      },
      "source": [
        "# 4.1 while Loops"
      ]
    },
    {
      "cell_type": "markdown",
      "metadata": {
        "id": "WWocj22RiFbP"
      },
      "source": [
        "---"
      ]
    },
    {
      "cell_type": "markdown",
      "metadata": {
        "id": "8LcvRRKgiGt8"
      },
      "source": [
        "- A while loop is a fundamental control structure in programming used for repeated execution of a block of code as long as a condition is true.\n",
        "- The loop starts by evaluating the condition. If the condition is true, the code inside the loop is executed.\n",
        "- After each iteration, the condition is re-evaluated, and if it's still true, the loop continues.\n",
        "If the condition is false initially, the loop code is never executed.\n",
        "- While loops are used when you don't know in advance how many times the loop needs to execute.\n",
        "- There's a risk of infinite loops if the condition never becomes false, so be cautious.\n",
        "You can use variables and complex expressions as loop conditions.\n",
        "- It's essential to update the loop control variable within the loop to prevent infinite loops.\n",
        "- While loops are typically used for tasks such as iterating over collections or waiting for a specific condition to be met.\n",
        "- You can always break out of a while loop prematurely using the break statement."
      ]
    },
    {
      "cell_type": "markdown",
      "metadata": {
        "id": "E8iapCcPija6"
      },
      "source": [
        "## Example of While Loops"
      ]
    },
    {
      "cell_type": "code",
      "execution_count": 1,
      "metadata": {
        "id": "Jq6_6Xz9iQ7T"
      },
      "outputs": [
        {
          "name": "stdout",
          "output_type": "stream",
          "text": [
            "    *\n",
            "   ***\n",
            "  *****\n",
            " *******\n",
            "*********\n"
          ]
        }
      ],
      "source": [
        "public class PyramidPattern {\n",
        "    public static void main(String[] args) {\n",
        "        int height = 5;\n",
        "        int row = 1;\n",
        "\n",
        "        while (row <= height) {\n",
        "            int spaces = height - row;\n",
        "            int stars = 2 * row - 1;\n",
        "\n",
        "            // Print spaces\n",
        "            int spaceCount = spaces;\n",
        "            while (spaceCount > 0) {\n",
        "                System.out.print(\" \");\n",
        "                spaceCount--;\n",
        "            }\n",
        "\n",
        "            // Print stars\n",
        "            int starCount = stars;\n",
        "            while (starCount > 0) {\n",
        "                System.out.print(\"*\");\n",
        "                starCount--;\n",
        "            }\n",
        "\n",
        "            System.out.println(); // Move to the next line for the next row\n",
        "            row++;\n",
        "        }\n",
        "    }\n",
        "}\n",
        "\n",
        "PyramidPattern.main(null);"
      ]
    },
    {
      "cell_type": "markdown",
      "metadata": {
        "id": "PlEcHnmjiFbP"
      },
      "source": [
        "# 4.2 for Loops"
      ]
    },
    {
      "cell_type": "markdown",
      "metadata": {
        "id": "zqeh9EO5iFbP"
      },
      "source": [
        "---"
      ]
    },
    {
      "cell_type": "markdown",
      "metadata": {
        "id": "KE4BIEPriFbQ"
      },
      "source": [
        "- Iterative statement that checks for condition\n",
        "- Repeatedly execute a a block of code as long as the condition is met\n",
        "- Condition specifies amount of times\n",
        "\n",
        "# for Loops vs. while Loops\n",
        "- while Loops: use when number of iterations is unknown\n",
        "- for Loops: use when number of iterations is known"
      ]
    },
    {
      "cell_type": "code",
      "execution_count": 2,
      "metadata": {
        "id": "puqpCZjUiFbQ",
        "outputId": "d0b6c4cd-efd4-48bc-94ae-a1a65f07ca7b"
      },
      "outputs": [
        {
          "name": "stdout",
          "output_type": "stream",
          "text": [
            "0\n",
            "1\n",
            "2\n",
            "3\n",
            "4\n"
          ]
        }
      ],
      "source": [
        "int i = 0;\n",
        "while (i < 5) {\n",
        "    System.out.println(i);\n",
        "    i++;\n",
        "}"
      ]
    },
    {
      "cell_type": "code",
      "execution_count": 3,
      "metadata": {
        "id": "gZ19jPsGiFbS",
        "outputId": "8b800081-760b-4b06-c86d-c867c9b1c841"
      },
      "outputs": [
        {
          "name": "stdout",
          "output_type": "stream",
          "text": [
            "0\n",
            "1\n",
            "2\n",
            "3\n",
            "4\n"
          ]
        }
      ],
      "source": [
        "for (int i = 0; i < 5; i++) {\n",
        "    System.out.println(i);\n",
        "}"
      ]
    },
    {
      "cell_type": "markdown",
      "metadata": {
        "id": "w9Hb_U8JiFbS"
      },
      "source": [
        "- Three parts in for loop header: variable initialization, Boolean (conditional) expression, and increment/decrement statement\n",
        "\n",
        "Question: Which part is which?\n",
        "\n",
        "- variable initialization (int i=0): sets variable before loop starts\n",
        "- Boolean (conditional) expression (i < 5): defines condition for loop to run, in this case, the loop continues as long as i is less than 5, so loops 5 times i 05\n",
        "- increment/decrement statement (i++): increases variable each time code block in the loop is executed, in this case it increases by 1\n",
        "- variable can be used in the code block for other various reasons besides specifying how many times the loop will repeat\n",
        "- Boolean (conditional) expression and increment/decrement statement together determine how many times the loop will repeat\n"
      ]
    },
    {
      "cell_type": "markdown",
      "metadata": {
        "id": "2Qsee252iFbT"
      },
      "source": [
        "# 4.3 Developing Algorithms Using Strings"
      ]
    },
    {
      "cell_type": "markdown",
      "metadata": {
        "id": "yx27l9SHiFbT"
      },
      "source": [
        "---"
      ]
    },
    {
      "cell_type": "markdown",
      "metadata": {
        "id": "o7jsDtk6iFbT"
      },
      "source": [
        "LEARNING OBJECTIVES:\n",
        "For algorithms in the context of a particular specification that involves ```String``` objects:\n",
        "- identify standard algorithms\n",
        "- modify standard algorithms\n",
        "- develop an algorithm\n",
        "\n",
        "\n",
        "**Java has many methods that are helpful when working with strings:**\n",
        "\n",
        "* ```String .substring``` --> retrieves portion of a string\n",
        "* ```String .equals``` --> compares two strings\n",
        "* ```String .length``` --> returns length of a string\n",
        "* ```for Loop``` --> iterating through characters of a string\n",
        "\n",
        "<br>\n",
        "<br>\n",
        "\n",
        "<h3> Finding a substring within a string </h3>\n",
        "\n",
        "We can use the \"window\" method:\n",
        "\n",
        "A \"window\" is created the same length as the substring. We then iterate through the main string in sections and compare to the substring\n",
        "\n",
        "For example:\n",
        "\n",
        "<h3> I T E R A T E </h3>with substring \"ERA\"\n",
        "\n",
        "<br>\n",
        "<br>\n",
        "<br>"
      ]
    },
    {
      "cell_type": "code",
      "execution_count": 4,
      "metadata": {
        "id": "NdBC9Hr5iFbT"
      },
      "outputs": [
        {
          "name": "stdout",
          "output_type": "stream",
          "text": [
            "substring is found within string!\n"
          ]
        }
      ],
      "source": [
        "public class StringFinder {\n",
        "    public static void main(String[] args) {\n",
        "        String word = \"iterate\";\n",
        "        String sub = \"rate\";\n",
        "        boolean found = false; // will be set to true once substring is found\n",
        "\n",
        "        for (int i = 0; i <= word.length() - sub.length(); i++) { //iterating forwards: starting at first index (0) and going to the length of the word.. let's try word.length\n",
        "            String portion = word.substring(i, i + sub.length());\n",
        "            if (portion.equals(sub)) // make sure you use .equals!!\n",
        "                found = true;\n",
        "        }\n",
        "\n",
        "        if (found)\n",
        "            System.out.println(\"substring is found within string!\");\n",
        "        else\n",
        "            System.out.println(\"substring is NOT within string\");\n",
        "    }\n",
        "\n",
        "    }\n",
        "\n",
        "    StringFinder.main(null);"
      ]
    },
    {
      "cell_type": "markdown",
      "metadata": {
        "id": "bWGMnmK6iFbT"
      },
      "source": [
        "<h4> POPCORN HACK: Run the code.. what happened? How can we fix it? <h4>\n",
        "\n",
        "The error stems from the for loop going until the length of the word even though the length of the word has an index that goes outside of the indexs of a word. To fix it we should change the for loop to instead have word.length - sub.length\n",
        "\n",
        "<h3> Another Issue: What if our substring was the word “RATE”? Note that RATE is at the end of the whole string. <h3>\n",
        "\n",
        "The code would not work as intended because it would stop at the first 'e' to fix this change it to <=\n",
        "\n",
        "<h2> HACKS </h2>\n",
        "\n",
        "**Create a algorithm similar to the one above. Except this time, use iteration to count the number of vowels within the main string.**\n",
        "\n",
        "HINT: Use the boolean expressions we have learned in previous lessons. Which would you use when comparing your \"window\" with multiple options of substrings?"
      ]
    },
    {
      "cell_type": "code",
      "execution_count": 5,
      "metadata": {},
      "outputs": [
        {
          "name": "stdout",
          "output_type": "stream",
          "text": [
            "vowels are in the string 9\n"
          ]
        }
      ],
      "source": [
        "public class VowelFinder {\n",
        "    public static void main(String[] args) {\n",
        "        String word = \"supercalifrajilstiosus\";\n",
        "        char[] arrayword = word.toCharArray();\n",
        "        char[] vowels = {'a','e','i','o','u'};\n",
        "        int num = 0;\n",
        "        boolean found = false; \n",
        "\n",
        "        for (int i = 0; i < word.length(); i++) {\n",
        "            for (int k = 0; k < vowels.length; k++) {\n",
        "                if (word.charAt(i) == vowels[k]) {\n",
        "                    found = true;\n",
        "                    num++;\n",
        "                }\n",
        "            }\n",
        "        }\n",
        "\n",
        "        if (found)\n",
        "            System.out.println(num+\" vowels are in the string\");\n",
        "        else\n",
        "            System.out.println(num+\" vowels are not in the string\");\n",
        "    }\n",
        "\n",
        "    }\n",
        "\n",
        "    VowelFinder.main(null);"
      ]
    },
    {
      "cell_type": "markdown",
      "metadata": {
        "id": "gQ5Aei3eiFbT"
      },
      "source": [
        "# 4.4 Nested Iteration"
      ]
    },
    {
      "cell_type": "markdown",
      "metadata": {
        "id": "sdYSe47hiFbT"
      },
      "source": [
        "**nested iteration**\n",
        "<details>occurs when we have a loop inside of another loop, similar to nested conditional statements in unit 3"
      ]
    },
    {
      "cell_type": "markdown",
      "metadata": {
        "id": "8qx7m09piFbT"
      },
      "source": [
        "When you have one loop inside another, the inner loop has to finish all its rounds before the outer loop moves to the next round. If the inner loop has a \"stop\" command, it only stops for that round of the outer loop. The next time the outer loop starts a new round, the inner loop starts over.\n",
        "\n",
        "If you have two nested loops without stops, and the outer one runs n times while the inner one runs m times each time the outer one goes around, the inner loop will run m times n times, which is m * n times in total. This rule also applies if you have more than two nested loops. To find the total number of times the innermost loop runs, just multiply how many times each loop runs per round."
      ]
    }
  ],
  "metadata": {
    "colab": {
      "provenance": []
    },
    "kernelspec": {
      "display_name": "Java",
      "language": "java",
      "name": "java"
    },
    "language_info": {
      "codemirror_mode": "java",
      "file_extension": ".jshell",
      "mimetype": "text/x-java-source",
      "name": "java",
      "pygments_lexer": "java",
      "version": "20.0.2+9-78"
    }
  },
  "nbformat": 4,
  "nbformat_minor": 0
}
