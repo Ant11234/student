{
 "cells": [
  {
   "cell_type": "markdown",
   "metadata": {},
   "source": [
    "---\n",
    "toc: true\n",
    "comments: true\n",
    "layout: post\n",
    "title: 2015 FRQ Question 4\n",
    "description:\n",
    "type: ccc\n",
    "courses: { csa: {week: 21} }\n",
    "---"
   ]
  },
  {
   "cell_type": "markdown",
   "metadata": {},
   "source": [
    "# Question 4: Interfaces\n",
    "\n",
    "Part A: Write an interface named NumberGroup that represents a group of integers. The interface should have a single contains method that determines if a given integer is in the group. For example, if group1 is of type NumberGroup, and it contains only the two numbers -5 and 3, then group1.contains(-5) would return true, and group1.contains(2) would return false.\n",
    "Write the complete NumberGroup interface. It must have exactly one method."
   ]
  },
  {
   "cell_type": "code",
   "execution_count": 1,
   "metadata": {
    "vscode": {
     "languageId": "java"
    }
   },
   "outputs": [
    {
     "name": "stdout",
     "output_type": "stream",
     "text": [
      "true\n",
      "false\n"
     ]
    }
   ],
   "source": [
    "import java.util.Arrays;\n",
    "import java.util.List;\n",
    "\n",
    "public class Main {\n",
    "    public static void main(String[] args) {\n",
    "        NumberGroup group1 = new IntegerList(Arrays.asList(100, 250));\n",
    "        System.out.println(group1.contains(100)); // true\n",
    "        System.out.println(group1.contains(300));  // false\n",
    "    }\n",
    "\n",
    "    public interface NumberGroup {\n",
    "        boolean contains(int num);\n",
    "    }\n",
    "\n",
    "    public static class IntegerList implements NumberGroup {\n",
    "        private List<Integer> numbers;\n",
    "\n",
    "        public IntegerList(List<Integer> numbers) {\n",
    "            this.numbers = numbers;\n",
    "        }\n",
    "\n",
    "        @Override\n",
    "        public boolean contains(int num) {\n",
    "            return numbers.contains(num);\n",
    "        }\n",
    "    }\n",
    "}\n",
    "\n",
    "Main.main(null);"
   ]
  },
  {
   "cell_type": "markdown",
   "metadata": {},
   "source": [
    "Part B: Write the complete Range class. Include all necessary instance variables and methods as well as a constructor that takes two int parameters. The first parameter represents the minimum value, and the second parameter represents the maximum value of the range. You may assume that the minimum is less than or equal to the maximum."
   ]
  },
  {
   "cell_type": "code",
   "execution_count": 4,
   "metadata": {
    "vscode": {
     "languageId": "java"
    }
   },
   "outputs": [
    {
     "name": "stdout",
     "output_type": "stream",
     "text": [
      "Range: -3 -2 -1 0 1 2\n",
      "Range contains -3: true\n",
      "Range contains 0: true\n",
      "Range contains 3: false\n"
     ]
    }
   ],
   "source": [
    "public interface NumberGroup {\n",
    "    boolean contains(int num);\n",
    "}\n",
    "\n",
    "public class Range implements NumberGroup {\n",
    "    private int min;\n",
    "    private int max;\n",
    "\n",
    "    public Range(int min, int max) {\n",
    "        this.min = min;\n",
    "        this.max = max;\n",
    "    }\n",
    "\n",
    "    public boolean contains(int value) {\n",
    "        return value >= min && value <= max;\n",
    "    }\n",
    "\n",
    "    // returns a string representation of all values in the range\n",
    "    @Override\n",
    "    public String toString() {\n",
    "        StringBuilder builder = new StringBuilder();\n",
    "        builder.append(\"Range: \");\n",
    "        for (int i = min; i <= max; i++) {\n",
    "            builder.append(i).append(\" \");\n",
    "        }\n",
    "        return builder.toString().trim(); \n",
    "    }\n",
    "}\n",
    "\n",
    "// Test cases\n",
    "class RangeTest {\n",
    "    public static void main(String[] args) {\n",
    "        Range range = new Range(-3, 2);\n",
    "\n",
    "        // Printing all values in the range\n",
    "        System.out.println(range);\n",
    "\n",
    "        // Test cases\n",
    "        System.out.println(\"Range contains -3: \" + range.contains(-3)); // should return true\n",
    "        System.out.println(\"Range contains 0: \" + range.contains(0)); // should return true\n",
    "        System.out.println(\"Range contains 3: \" + range.contains(3)); // should return false\n",
    "    }\n",
    "}\n",
    "\n",
    "RangeTest.main(null);"
   ]
  },
  {
   "cell_type": "markdown",
   "metadata": {},
   "source": [
    "Part C: Write the MultipleGroups method contains. The method takes an integer and returns true if and only if the integer is contained in one or more of the number groups in groupList."
   ]
  },
  {
   "cell_type": "code",
   "execution_count": 13,
   "metadata": {
    "vscode": {
     "languageId": "java"
    }
   },
   "outputs": [
    {
     "name": "stdout",
     "output_type": "stream",
     "text": [
      "Multiple contains 6: true\n",
      "Multiple contains 9: false\n",
      "Multiple contains 11: true\n",
      "Multiple contains 11: false\n"
     ]
    }
   ],
   "source": [
    "import java.util.List;\n",
    "import java.util.ArrayList;\n",
    "\n",
    "public class MultipleGroups implements NumberGroup {\n",
    "    private List<NumberGroup> groupList;\n",
    "\n",
    "    public MultipleGroups() {\n",
    "        groupList = new ArrayList<>();\n",
    "        groupList.add(new Range(5, 8));\n",
    "        groupList.add(new Range(10, 12));\n",
    "        groupList.add(new Range(1, 6));\n",
    "    }\n",
    "\n",
    "    public boolean contains(int num) {\n",
    "        for (NumberGroup group : groupList) {\n",
    "            if (group.contains(num)) {\n",
    "                return true;\n",
    "            }\n",
    "        }\n",
    "        return false;\n",
    "    }\n",
    "}\n",
    "\n",
    "// Test cases \n",
    "class MultipleGroupsTest {\n",
    "    public static void main(String[] args) {\n",
    "        MultipleGroups multiple = new MultipleGroups();\n",
    "\n",
    "        // Test cases\n",
    "        System.out.println(\"Multiple contains 6: \" + multiple.contains(6)); // should return true\n",
    "        System.out.println(\"Multiple contains 9: \" + multiple.contains(9)); // should return false\n",
    "        System.out.println(\"Multiple contains 11: \" + multiple.contains(11)); // should return true\n",
    "        System.out.println(\"Multiple contains 11: \" + multiple.contains(13)); // should return false\n",
    "    }\n",
    "}\n",
    "\n",
    "MultipleGroupsTest.main(null);"
   ]
  },
  {
   "cell_type": "markdown",
   "metadata": {},
   "source": [
    "# FRQ 4 Reflection\n",
    "\n",
    "This FRQ was the most challenging for me out of all of them. I am unfamiliar with interfaces and it was super cool to learn a ton about them from this FRQ. I had to do some research, but my understanding is it's similar to a class, but it can only have certain things within it such as constants, methid sugbatyresm default methodsm statuc methods, and nested types. We don't have any interfaces within our AI code, so it would be really interesting to try and implement it into our code in a useful way. One idea would be to have an interface for predictionlogic and then extend it in predictionlogic."
   ]
  }
 ],
 "metadata": {
  "kernelspec": {
   "display_name": "Java",
   "language": "java",
   "name": "java"
  },
  "language_info": {
   "codemirror_mode": "java",
   "file_extension": ".jshell",
   "mimetype": "text/x-java-source",
   "name": "Java",
   "pygments_lexer": "java",
   "version": "20.0.2+9-78"
  }
 },
 "nbformat": 4,
 "nbformat_minor": 2
}
