{
 "cells": [
  {
   "cell_type": "markdown",
   "metadata": {},
   "source": [
    "---\n",
    "toc: true\n",
    "comments: true\n",
    "layout: post\n",
    "title: 2015 FRQ Question 1\n",
    "description:\n",
    "type: ccc\n",
    "courses: { csa: {week: 21} }\n",
    "---"
   ]
  },
  {
   "cell_type": "markdown",
   "metadata": {},
   "source": [
    "# Question 1: Arrays/ ArrayLists\n",
    "\n",
    "Part A: Write a static method arraySum that calculates and returns the sum of the entries in a specified one-dimensional array. The following example shows an array arr1 and the value returned by a call to arraySum."
   ]
  },
  {
   "cell_type": "code",
   "execution_count": 6,
   "metadata": {
    "vscode": {
     "languageId": "java"
    }
   },
   "outputs": [
    {
     "name": "stdout",
     "output_type": "stream",
     "text": [
      "45\n"
     ]
    }
   ],
   "source": [
    "// Part (a)\n",
    "int[] exampleArray2D = {1, 2, 3, 4, 5, 6, 7, 8, 9};\n",
    "public static int arraySum(int[] arr) {\n",
    "    int sum = 0; // Initialize sum to 0\n",
    "    for (int value : arr) {\n",
    "        sum += value;\n",
    "    }\n",
    "    return sum; // Return the total sum\n",
    "}\n",
    "\n",
    "System.out.println(arraySum(exampleArray2D));"
   ]
  },
  {
   "cell_type": "markdown",
   "metadata": {},
   "source": [
    "Part B: Write a static method rowSums that calculates the sums of each of the rows in a given two-dimensional array and returns these sums in a one-dimensional array. The method has one parameter, a two-dimensional array arr2D of int values. The array is in row-major order: arr2D [r] [c] is the entry at row r and column c. The method returns a one-dimensional array with one entry for each row of arr2D such that each entry is the sum of the corresponding row in arr2D. As a reminder, each row of a two-dimensional array is a one-dimensional array.\n"
   ]
  },
  {
   "cell_type": "code",
   "execution_count": 16,
   "metadata": {
    "vscode": {
     "languageId": "java"
    }
   },
   "outputs": [
    {
     "name": "stdout",
     "output_type": "stream",
     "text": [
      "[6, 15, 24]\n"
     ]
    }
   ],
   "source": [
    "// Part (b)\n",
    "int[][] exampleArray2D = {{1, 2, 3},{4, 5, 6},{7, 8, 9}};\n",
    "\n",
    "import java.util.Arrays;\n",
    "\n",
    "public class Main {\n",
    "    public static void main(String[] args) {\n",
    "        int[][] exampleArray2D = {{1, 2, 3}, {4, 5, 6}, {7, 8, 9}};\n",
    "        \n",
    "    }\n",
    "\n",
    "    public static int[] rowSums(int[][] arr2D) {\n",
    "        int[] sums = new int[arr2D.length];\n",
    "        for (int i = 0; i < arr2D.length; i++) {\n",
    "            sums[i] = arraySum(arr2D[i]);\n",
    "        }\n",
    "        return sums;\n",
    "    }\n",
    "}\n",
    "\n",
    "System.out.println(Arrays.toString(rowSums(exampleArray2D)));"
   ]
  },
  {
   "cell_type": "markdown",
   "metadata": {},
   "source": [
    "Part C: Write a static method isDiverse that determines whether or not a given two-dimensional array is diverse. The method has one parameter: a two-dimensional array arr2D of int values. The method should return true if all the row sums in the given array are unique; otherwise, it should return false. In the arrays shown above, the call isDiverse (mat1) returns true and the call isDiverse(mat2) returns false."
   ]
  },
  {
   "cell_type": "code",
   "execution_count": 18,
   "metadata": {
    "vscode": {
     "languageId": "java"
    }
   },
   "outputs": [
    {
     "name": "stdout",
     "output_type": "stream",
     "text": [
      "true\n"
     ]
    }
   ],
   "source": [
    "// Part (c)\n",
    "int[][] exampleArray2D = {{1, 2, 3},{4, 8, 6},{7, 8, 9}};\n",
    "\n",
    "public static boolean isDiverse(int[][] arr2D) {\n",
    "    int[] rowSums = rowSums(arr2D);\n",
    "    for (int i = 0; i < rowSums.length - 1; i++) {\n",
    "        for (int j = i + 1; j < rowSums.length; j++) {\n",
    "            if (rowSums[i] == rowSums[j]) {\n",
    "                return false;\n",
    "            }\n",
    "        }\n",
    "    }\n",
    "    return true;\n",
    "}\n",
    "\n",
    "System.out.println(isDiverse(exampleArray2D));"
   ]
  },
  {
   "cell_type": "markdown",
   "metadata": {},
   "source": [
    "# FRQ 1 Reflection\n",
    "\n",
    "I found this FRQ to not be too difficult due to my experiences both teaching the Array/ Arraylists lesson in trimester 1 and its constant use in the ASL AI project. The isDiverse function, part c, took the most time out of the three due to me getting some errors with index out of bounds for i, but by adding the -1 to the end of rowSums.length, I managed to fix this issue. I had also already seen the sum of an array in another piece of code I made in trimester 1, but since then I feel much more confident about arrays/ arraylists."
   ]
  }
 ],
 "metadata": {
  "kernelspec": {
   "display_name": "Java",
   "language": "java",
   "name": "java"
  },
  "language_info": {
   "codemirror_mode": "java",
   "file_extension": ".jshell",
   "mimetype": "text/x-java-source",
   "name": "Java",
   "pygments_lexer": "java",
   "version": "20.0.2+9-78"
  }
 },
 "nbformat": 4,
 "nbformat_minor": 2
}
