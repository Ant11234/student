{
 "cells": [
  {
   "cell_type": "markdown",
   "metadata": {},
   "source": [
    "---\n",
    "comments: true\n",
    "layout: post\n",
    "title: Primitive Data Types\n",
    "description: This is where students use thier knowledge of primitive data types.\n",
    "type: hacks\n",
    "courses: { csa: {week: 2} }\n",
    "categories: [C4.1]\n",
    "---"
   ]
  },
  {
   "cell_type": "markdown",
   "metadata": {},
   "source": [
    "## Scanner with Warning Message"
   ]
  },
  {
   "cell_type": "markdown",
   "metadata": {},
   "source": [
    "## Primitive Datatypes with Warnings"
   ]
  },
  {
   "cell_type": "code",
   "execution_count": 1,
   "metadata": {},
   "outputs": [
    {
     "name": "stdout",
     "output_type": "stream",
     "text": [
      "Enter an integer: Wrong datatype, should be an integer\n",
      "Enter an integer: Wrong datatype, should be an integer\n",
      "Enter an integer: 16\n",
      "Enter a double: Wrong datatype, should be a double\n",
      "Enter a double: 0.055\n",
      "Enter a boolean: true\n",
      "Enter a String: buttface\n"
     ]
    }
   ],
   "source": [
    "import java.util.Scanner;\n",
    "\n",
    "public class ScanPrimitives {\n",
    "    public static void main(String[] args) {\n",
    "        Scanner input;\n",
    "\n",
    "        // primitive int\n",
    "        int sampleInputInt = 0;\n",
    "        boolean isValidInt = false;\n",
    "        while (!isValidInt) {\n",
    "            input = new Scanner(System.in);\n",
    "            System.out.print(\"Enter an integer: \");\n",
    "            try {\n",
    "                sampleInputInt = input.nextInt();\n",
    "                System.out.println(sampleInputInt);\n",
    "                isValidInt = true;\n",
    "            } catch (Exception e) {\n",
    "                System.out.println(\"Wrong datatype, should be an integer\");\n",
    "            } finally {\n",
    "                input.close();\n",
    "            }\n",
    "        }\n",
    "\n",
    "        // primitive double\n",
    "        double sampleInputDouble = 0.0;\n",
    "        boolean isValidDouble = false;\n",
    "        while (!isValidDouble) {\n",
    "            input = new Scanner(System.in);\n",
    "            System.out.print(\"Enter a double: \");\n",
    "            try {\n",
    "                sampleInputDouble = input.nextDouble();\n",
    "                System.out.println(sampleInputDouble);\n",
    "                isValidDouble = true;\n",
    "            } catch (Exception e) {\n",
    "                System.out.println(\"Wrong datatype, should be a double\");\n",
    "            } finally {\n",
    "                input.close();\n",
    "            }\n",
    "        }\n",
    "\n",
    "        // primitive boolean\n",
    "        boolean sampleInputBoolean = false;\n",
    "        boolean isValidBoolean = false;\n",
    "        while (!isValidBoolean) {\n",
    "            input = new Scanner(System.in);\n",
    "            System.out.print(\"Enter a boolean: \");\n",
    "            try {\n",
    "                sampleInputBoolean = input.nextBoolean();\n",
    "                System.out.println(sampleInputBoolean);\n",
    "                isValidBoolean = true;\n",
    "            } catch (Exception e) {\n",
    "                System.out.println(\"Wrong datatype, should be a boolean\");\n",
    "            } finally {\n",
    "                input.close();\n",
    "            }\n",
    "        }\n",
    "\n",
    "        // wrapper class String\n",
    "        String sampleInputString = \"\";\n",
    "        boolean isValidString = false;\n",
    "        while (!isValidString) {\n",
    "            input = new Scanner(System.in);\n",
    "            System.out.print(\"Enter a String: \");\n",
    "            try {\n",
    "                sampleInputString = input.nextLine();\n",
    "                System.out.println(sampleInputString);\n",
    "                isValidString = true;\n",
    "            } catch (Exception e) {\n",
    "                System.out.println(\"Wrong datatype, should be a string\");\n",
    "            } finally {\n",
    "                input.close();\n",
    "            }\n",
    "        }\n",
    "    }\n",
    "}\n",
    "ScanPrimitives.main(null);"
   ]
  }
 ],
 "metadata": {
  "kernelspec": {
   "display_name": "Java",
   "language": "java",
   "name": "java"
  },
  "language_info": {
   "codemirror_mode": "java",
   "file_extension": ".jshell",
   "mimetype": "text/x-java-source",
   "name": "java",
   "pygments_lexer": "java",
   "version": "20.0.2+9-78"
  },
  "orig_nbformat": 4
 },
 "nbformat": 4,
 "nbformat_minor": 2
}
