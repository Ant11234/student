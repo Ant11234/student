{
 "cells": [
  {
   "cell_type": "markdown",
   "metadata": {},
   "source": [
    "---\n",
    "toc: true\n",
    "comments: true\n",
    "layout: post\n",
    "title: 2015 FRQ Question 2\n",
    "description:\n",
    "type: ccc\n",
    "courses: { csa: {week: 21} }\n",
    "---"
   ]
  },
  {
   "cell_type": "markdown",
   "metadata": {},
   "source": [
    "# Question 2: Classes\n",
    "\n",
    "Write the complete HiddenWord class, including any necessary instance variables, its constructor, and the method, getHint, described above. You may assume that the length of the guess is the same as the length of the hidden word."
   ]
  },
  {
   "cell_type": "code",
   "execution_count": 4,
   "metadata": {
    "vscode": {
     "languageId": "java"
    }
   },
   "outputs": [],
   "source": [
    "public class HiddenWord {\n",
    "    private String hiddenWord;\n",
    "\n",
    "    public HiddenWord(String word) {\n",
    "        hiddenWord = word;\n",
    "    }\n",
    "\n",
    "    public String getHint(String guess) {\n",
    "        StringBuilder hint = new StringBuilder();\n",
    "\n",
    "        for (int i = 0; i < hiddenWord.length(); i++) {\n",
    "            char c = guess.charAt(i);\n",
    "            if (c == hiddenWord.charAt(i)) {\n",
    "                hint.append(c); // Letter matches position in the hidden word\n",
    "            } else if (hiddenWord.indexOf(c) >= 0) {\n",
    "                hint.append(\"+\"); // Letter is in the hidden word but in a different position\n",
    "            } else {\n",
    "                hint.append(\"*\"); // Letter is not in the hidden word at all\n",
    "            }\n",
    "        }\n",
    "\n",
    "        return hint.toString();\n",
    "    }\n",
    "}\n"
   ]
  },
  {
   "cell_type": "code",
   "execution_count": 7,
   "metadata": {
    "vscode": {
     "languageId": "java"
    }
   },
   "outputs": [
    {
     "name": "stdout",
     "output_type": "stream",
     "text": [
      "+A+++\n",
      "H****\n",
      "H*++*\n",
      "HAR*S\n",
      "HARPS\n"
     ]
    }
   ],
   "source": [
    "public class Game {\n",
    "    public static void main(String[] args) {\n",
    "        HiddenWord puzzle = new HiddenWord(\"HARPS\");\n",
    "        System.out.println(puzzle.getHint(\"AAAAA\")); // Outputs: +A+++\n",
    "        System.out.println(puzzle.getHint(\"HELLO\")); // Outputs: H****\n",
    "        System.out.println(puzzle.getHint(\"HEART\")); // Outputs: H*++*\n",
    "        System.out.println(puzzle.getHint(\"HARMS\")); // Outputs: HAR*S\n",
    "        System.out.println(puzzle.getHint(\"HARPS\")); // Outputs: HARPS\n",
    "    }\n",
    "}\n",
    "\n",
    "Game.main(null);"
   ]
  },
  {
   "cell_type": "markdown",
   "metadata": {},
   "source": [
    "# FRQ 2 Reflection\n",
    "\n",
    "This frq was quite fun actually. It essentially mimics the game wordle, and I found myself playing it when I probably should have been working on the other frqs. I had a blast trying to get it to work. It reminded me of my early days in python where I would make games almost entirely out of if statements. One of the most memorable of these games (not for good reasons) for example was this rpg game where you would select different options and it would change the story. In my naivety, I didn't know how to make the code ask the question again if you picked an answer that made you lose a life or that didn't do anything, so I created every single possible path that they could've selected. This was the most tedious thing I've ever done it took me weeks and was over 2000 lines of code. Even though it took me weeks straight of work, I don't remember ever having a better time coding than then, and I felt that again with this question. However, the difference being this time I can make the game in 3 if statements as oppose to 100. It felt amazing making a more complicated fully functional game in just a few lines of code."
   ]
  }
 ],
 "metadata": {
  "kernelspec": {
   "display_name": "Java",
   "language": "java",
   "name": "java"
  },
  "language_info": {
   "codemirror_mode": "java",
   "file_extension": ".jshell",
   "mimetype": "text/x-java-source",
   "name": "Java",
   "pygments_lexer": "java",
   "version": "20.0.2+9-78"
  }
 },
 "nbformat": 4,
 "nbformat_minor": 2
}
