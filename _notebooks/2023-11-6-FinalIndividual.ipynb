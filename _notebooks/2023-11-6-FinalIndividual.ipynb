{
 "cells": [
  {
   "cell_type": "markdown",
   "metadata": {},
   "source": [
    "---\n",
    "toc: true\n",
    "comments: true\n",
    "layout: post\n",
    "title: Final Project - Individual\n",
    "description: Final Trimester 1 Individual Blog\n",
    "courses: { csp: {week: 11} }\n",
    "type: Plans\n",
    "---"
   ]
  },
  {
   "cell_type": "markdown",
   "metadata": {},
   "source": [
    "## Individual Code\n",
    "- Below I have addded sections of code that I am proud of in my final project that shows contribution and a good understanding of java and other topics in this timerster."
   ]
  },
  {
   "cell_type": "code",
   "execution_count": null,
   "metadata": {
    "vscode": {
     "languageId": "java"
    }
   },
   "outputs": [],
   "source": [
    "const playerImages = [\n",
    "            'https://github.com/Ant11234/student/assets/40652645/15b4e3de-f9c4-4c70-adc9-d696cffd6ad7',\n",
    "            'https://github.com/Ant11234/student/assets/40652645/97854bf1-907b-4a51-9de1-7064b7f296da',\n",
    "            'https://github.com/Ant11234/student/assets/40652645/2122f367-aea5-4a97-bb5d-ace685929f77'\n",
    "        ];\n",
    "        let currentPlayerImageIndex = 0;\n",
    "        function changePlayerImage() {\n",
    "            // Update the player image source with the next image in the array\n",
    "            playerImage.src = playerImages[currentPlayerImageIndex];\n",
    "            // Increment the index or reset it to 0 if it exceeds the array length\n",
    "            currentPlayerImageIndex = (currentPlayerImageIndex + 1) % playerImages.length;\n",
    "        }\n",
    "        // Call the changePlayerImage function every second (1000 milliseconds)\n",
    "        setInterval(changePlayerImage, 10000);"
   ]
  },
  {
   "cell_type": "markdown",
   "metadata": {},
   "source": [
    "# Improvements\n",
    "- Fixes to extreme rapid movement and a better way to change animation of player\n",
    "    - Rapid Shooting: \n",
    "# Things Learned\n",
    "- Learnt about the problem with creating a new listener every event\n",
    "- Timeout functions\n",
    "- Animation using multiple individual images and switching between them"
   ]
  },
  {
   "cell_type": "code",
   "execution_count": null,
   "metadata": {
    "vscode": {
     "languageId": "java"
    }
   },
   "outputs": [],
   "source": [
    "createButton.addEventListener(\"click\", () => {\n",
    "    username = input.value;\n",
    "    const postData = {\n",
    "        leaderboard: username,\n",
    "        score: score,\n",
    "    };\n",
    "    fetch(`http://localhost:8027/api/leaderboard/post/${username}/${score}`, {\n",
    "            method: 'POST',\n",
    "            mode: 'cors',\n",
    "            cache: 'default',\n",
    "            credentials: 'same-origin',\n",
    "            headers: {\n",
    "                'Content-Type': 'application/json',\n",
    "                'Authorization': 'Bearer my-token'\n",
    "            },\n",
    "            body: JSON.stringify(postData)\n",
    "    })\n",
    "    .then(response => response.json())\n",
    "    .then(data => {\n",
    "        //\n",
    "    })\n",
    "    .catch(error => {\n",
    "        console.error(\"Error: \" + error);\n",
    "    });\n",
    "});\n",
    "generateButton.addEventListener(\"click\", () => {\n",
    "    fetch(\"http://localhost:8027/api/leaderboard/\")\n",
    "    .then(response => response.json())\n",
    "    .then(data => {\n",
    "        leaderboardTable.innerHTML = \"\"; // Clear previous data\n",
    "        data.forEach(item => {\n",
    "            const row = leaderboardTable.insertRow(-1);\n",
    "            const cell1 = row.insertCell(0);\n",
    "            const cell2 = row.insertCell(1);\n",
    "            cell1.innerHTML = item.leaderboard;\n",
    "            cell2.innerHTML = item.score;\n",
    "            console.log(item.score);\n",
    "        });\n",
    "    })\n",
    "    .catch(error => {\n",
    "        console.error(\"Error:\", error);\n",
    "    });\n",
    "});"
   ]
  },
  {
   "cell_type": "markdown",
   "metadata": {},
   "source": [
    "# "
   ]
  }
 ],
 "metadata": {
  "kernelspec": {
   "display_name": "Java",
   "language": "java",
   "name": "java"
  },
  "language_info": {
   "codemirror_mode": "java",
   "file_extension": ".jshell",
   "mimetype": "text/x-java-source",
   "name": "Java",
   "pygments_lexer": "java",
   "version": "20.0.2+9-78"
  }
 },
 "nbformat": 4,
 "nbformat_minor": 2
}
