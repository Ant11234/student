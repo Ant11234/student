{
 "cells": [
  {
   "cell_type": "markdown",
   "metadata": {},
   "source": [
    "---\n",
    "toc: true\n",
    "comments: true\n",
    "layout: post\n",
    "title: Final Project - Individual\n",
    "description: Final Trimester 1 Individual Blog\n",
    "type: plans\n",
    "courses: { csa: {week: 11} }\n",
    "---"
   ]
  },
  {
   "cell_type": "markdown",
   "metadata": {},
   "source": [
    "## Individual Code\n",
    "- Below I have addded sections of code that I am proud of in my final project that shows contribution and a good understanding of java and other topics in this timerster."
   ]
  },
  {
   "cell_type": "code",
   "execution_count": null,
   "metadata": {
    "vscode": {
     "languageId": "java"
    }
   },
   "outputs": [],
   "source": [
    "const playerImages = [\n",
    "            'https://github.com/Ant11234/student/assets/40652645/15b4e3de-f9c4-4c70-adc9-d696cffd6ad7',\n",
    "            'https://github.com/Ant11234/student/assets/40652645/97854bf1-907b-4a51-9de1-7064b7f296da',\n",
    "            'https://github.com/Ant11234/student/assets/40652645/2122f367-aea5-4a97-bb5d-ace685929f77'\n",
    "        ];\n",
    "        let currentPlayerImageIndex = 0;\n",
    "        function changePlayerImage() {\n",
    "            // Update the player image source with the next image in the array\n",
    "            playerImage.src = playerImages[currentPlayerImageIndex];\n",
    "            // Increment the index or reset it to 0 if it exceeds the array length\n",
    "            currentPlayerImageIndex = (currentPlayerImageIndex + 1) % playerImages.length;\n",
    "        }\n",
    "        // Call the changePlayerImage function every second (1000 milliseconds)\n",
    "        setInterval(changePlayerImage, 10000);"
   ]
  },
  {
   "cell_type": "markdown",
   "metadata": {},
   "source": [
    "# Improvements\n",
    "- Fixes to extreme rapid movement and a better way to change animation of player\n",
    "    - Rapid Shooting: https://ant11234.github.io/student/game\n",
    "- Changed animation in order to make the ship stop disappearing\n",
    "# Things Learned\n",
    "- Learnt about the problem with creating a new listener every event\n",
    "- Timeout functions\n",
    "- Animation using multiple individual images and switching between them"
   ]
  },
  {
   "cell_type": "code",
   "execution_count": null,
   "metadata": {
    "vscode": {
     "languageId": "java"
    }
   },
   "outputs": [],
   "source": [
    "createButton.addEventListener(\"click\", () => {\n",
    "    username = input.value;\n",
    "    const postData = {\n",
    "        leaderboard: username,\n",
    "        score: score,\n",
    "    };\n",
    "    fetch(`http://localhost:8027/api/leaderboard/post/${username}/${score}`, {\n",
    "            method: 'POST',\n",
    "            mode: 'cors',\n",
    "            cache: 'default',\n",
    "            credentials: 'same-origin',\n",
    "            headers: {\n",
    "                'Content-Type': 'application/json',\n",
    "                'Authorization': 'Bearer my-token'\n",
    "            },\n",
    "            body: JSON.stringify(postData)\n",
    "    })\n",
    "    .then(response => response.json())\n",
    "    .then(data => {\n",
    "        //\n",
    "    })\n",
    "    .catch(error => {\n",
    "        console.error(\"Error: \" + error);\n",
    "    });\n",
    "});\n",
    "generateButton.addEventListener(\"click\", () => {\n",
    "    fetch(\"http://localhost:8027/api/leaderboard/\")\n",
    "    .then(response => response.json())\n",
    "    .then(data => {\n",
    "        leaderboardTable.innerHTML = \"\"; // Clear previous data\n",
    "        data.forEach(item => {\n",
    "            const row = leaderboardTable.insertRow(-1);\n",
    "            const cell1 = row.insertCell(0);\n",
    "            const cell2 = row.insertCell(1);\n",
    "            cell1.innerHTML = item.leaderboard;\n",
    "            cell2.innerHTML = item.score;\n",
    "            console.log(item.score);\n",
    "        });\n",
    "    })\n",
    "    .catch(error => {\n",
    "        console.error(\"Error:\", error);\n",
    "    });\n",
    "});"
   ]
  },
  {
   "cell_type": "markdown",
   "metadata": {},
   "source": [
    "# Improvements\n",
    "- Worked to make an API for the first time\n",
    "# Things Learned\n",
    "- How API's work, their function, and how to get them to work in code\n",
    "- How to get information from an API to the frontend\n",
    "    - Taking the information from the API and putting it on the leaderboard"
   ]
  },
  {
   "cell_type": "code",
   "execution_count": null,
   "metadata": {
    "vscode": {
     "languageId": "java"
    }
   },
   "outputs": [],
   "source": [
    "const miniBoss = {\n",
    "    x: 0,\n",
    "    y: 0,\n",
    "    width: 100,\n",
    "    height: 100,\n",
    "    speed: 15,\n",
    "};\n",
    "// Function to spawn the mini-boss\n",
    "// Function to spawn the mini-boss\n",
    "function spawnMiniBoss() {\n",
    "    let minDistance = 300; // Minimum distance between player and mini-boss\n",
    "    let validSpawn = false;\n",
    "    while (!validSpawn) {\n",
    "        miniBoss.x = Math.random() * (canvas.width - miniBoss.width);\n",
    "        miniBoss.y = Math.random() * (canvas.height - miniBoss.height);\n",
    "        // Calculate the distance between player and mini-boss\n",
    "        let distance = Math.sqrt(Math.pow(player.x - miniBoss.x, 2) + Math.pow(player.y - miniBoss.y, 2));\n",
    "        if (distance >= minDistance) {\n",
    "            validSpawn = true;\n",
    "        }\n",
    "    }\n",
    "}\n",
    "// Draw the mini-boss\n",
    "function drawMiniBoss() {\n",
    "    ctx.save();\n",
    "    ctx.translate(miniBoss.x + miniBoss.width / 2, miniBoss.y + miniBoss.height / 2);\n",
    "    ctx.rotate(Math.PI); // Rotate by 180 degrees (π radians)\n",
    "    ctx.drawImage(minibossImage, -miniBoss.width / 2, -miniBoss.height / 2, miniBoss.width, miniBoss.height);\n",
    "    ctx.restore();\n",
    "}\n",
    "// Update the mini-boss\n",
    "function updateMiniBoss() {\n",
    "    miniBoss.x += (Math.random() - 0.5) * miniBoss.speed;\n",
    "    miniBoss.y += (Math.random() - 0.5) * miniBoss.speed;\n",
    "    miniBoss.x = Math.max(0, Math.min(canvas.width - miniBoss.width, miniBoss.x));\n",
    "    miniBoss.y = Math.max(0, Math.min(canvas.height - miniBoss.height, miniBoss.y));\n",
    "}\n",
    "setInterval(() => {\n",
    "    miniBoss.speed += 1; // Increase miniboss speed by 1 (you can adjust the increment as needed)\n",
    "}, 5000);\n",
    "// Check for collisions with the mini-boss\n",
    "function checkMiniBossCollision() {\n",
    "    if (\n",
    "        player.x < miniBoss.x + miniBoss.width &&\n",
    "        player.x + player.width > miniBoss.x &&\n",
    "        player.y < miniBoss.y + miniBoss.height &&\n",
    "        player.y + player.height > miniBoss.y\n",
    "    ) {\n",
    "        isGameOver = true;\n",
    "    }\n",
    "    for (let i = 0; i < bullets.length; i++) {\n",
    "        if (\n",
    "            bullets[i].x < miniBoss.x + miniBoss.width &&\n",
    "            bullets[i].x + bullets[i].width > miniBoss.x &&\n",
    "            bullets[i].y < miniBoss.y + miniBoss.height &&\n",
    "            bullets[i].y + bullets[i].height > miniBoss.y\n",
    "        ) {\n",
    "            spawnMiniBoss(); // Respawn the mini-boss\n",
    "            bullets.splice(i, 1);\n",
    "            score += 20; // Increment the score when mini-boss is hit\n",
    "        }\n",
    "    }\n",
    "}"
   ]
  },
  {
   "cell_type": "markdown",
   "metadata": {},
   "source": [
    "# Improvements\n",
    "- Random movement\n",
    "- Created a good model that blends in with background\n",
    "- Making sure boss doesn't spawn on player instantly ending the game\n",
    "- Gradually increasing mini-boss speed\n",
    "# Things Learned\n",
    "- Use of tools like canva to create models for projects\n",
    "- Position of things in a canvas, and how to make sure that they don't overlap with something else"
   ]
  },
  {
   "cell_type": "markdown",
   "metadata": {},
   "source": [
    "# Github Commits\n",
    "- Profile: https://github.com/Ant11234\n",
    "- Issues: https://github.com/Ant11234/student/issues\n",
    "- Repository: https://github.com/Cosmic-Carnage"
   ]
  },
  {
   "cell_type": "markdown",
   "metadata": {},
   "source": [
    "## Individual Blog\n",
    "\n",
    "# College Board Quiz Notes\n",
    "- Journal of Searches During Quiz\n",
    "    - What is a constructor in Java\n",
    "    - How to declare and use methods in Java\n",
    "    - Java inheritance and polymorphism explanation\n",
    "    - String manipulation methods in Java\n",
    "    - Exception handling in Java.\n",
    "    - Object-oriented programming principles\n",
    "    - Java access modifiers (public, private, protected, default)\n",
    "    - Sorting and searching algorithms in Java\n",
    "    - Understanding the \"this\" keyword in Java\n",
    "    - Java collections (e.g., HashMap, HashSet) usage\n",
    "- Corrected Questions\n",
    "    - Question 12:\n",
    "        - Incorrect because it would only be true if k was incremented by 1 and the for loop only went to input.length()-1\n",
    "    - Question 22:\n",
    "        - Should be B because the code can't call an audiobooks pages per minute\n",
    "    - Question 24:\n",
    "        - 5 is at [1][1] not [2][0]\n",
    "    - Quesiton 38:\n",
    "        - Will return false when y is below 10000, x has no effect\n",
    "# Trimester 1 Reflection\n",
    "- Period 1 CSA has been one of my most memorable classes I've had during my time at Del Norte. Throughout this trimester, I feel as if I've made some close friends in my teamates, and have grown a lot and learned a lot especially in respect to computer science. While coming into this class I was expecting my previous knowledge in python to help considerably, and I believed that my previous experiences working on collaborative projects like in my AI research paper would make this class easy. I was mistaken. Even though this knowledge definently made a considerable impact. I was initially overwelmed with work trying to learn a new language and complete tons of dev ops stuff. However, after getting into the groove of it, I wouldn't have it any other way. The challenge this class has provided me has propelled my computer science knowledge, and I feel much more well versed and comftorable despite majority of this being new. I feel as if in this short time I have learned and progressed further than I ever thought I would. I am pleasently suprised by the drastic effect this class has had on my ability in computer science, and its ability to reignit my love for computer science. In future trimesters I hope to recieve a similar challenge in order to come out a more proficient coder and keep kindiling my passion for computer science."
   ]
  }
 ],
 "metadata": {
  "kernelspec": {
   "display_name": "Java",
   "language": "java",
   "name": "java"
  },
  "language_info": {
   "codemirror_mode": "java",
   "file_extension": ".jshell",
   "mimetype": "text/x-java-source",
   "name": "Java",
   "pygments_lexer": "java",
   "version": "20.0.2+9-78"
  }
 },
 "nbformat": 4,
 "nbformat_minor": 2
}
